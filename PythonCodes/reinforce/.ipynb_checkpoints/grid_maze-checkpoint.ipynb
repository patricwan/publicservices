{
 "cells": [
  {
   "cell_type": "code",
   "execution_count": 11,
   "metadata": {},
   "outputs": [],
   "source": [
    "import numpy as np\n",
    "import time\n",
    "import sys\n",
    "import tkinter as tk\n",
    "\n",
    "UNIT = 80   # pixels\n",
    "MAZE_H = 5  # grid height\n",
    "MAZE_W = 5  # grid width\n",
    "\n",
    "\n",
    "class MazeGrid(tk.Tk, object):\n",
    "    def __init__(self):\n",
    "        super(MazeGrid, self).__init__()\n",
    "        self.title('mazeGrid')\n",
    "        self._build_grid()\n",
    "    \n",
    "    def _build_grid(self):\n",
    "        self.canvas = tk.Canvas(self, bg='white',\n",
    "                         height=MAZE_H * UNIT,\n",
    "                         width=MAZE_W * UNIT)\n",
    "        # create grids\n",
    "        for c in range(0, MAZE_W * UNIT, UNIT):\n",
    "            x0, y0, x1, y1 = c, 0, c, MAZE_H * UNIT\n",
    "            self.canvas.create_line(x0, y0, x1, y1)\n",
    "        for r in range(0, MAZE_H * UNIT, UNIT):\n",
    "            x0, y0, x1, y1 = 0, r, MAZE_H * UNIT, r\n",
    "            self.canvas.create_line(x0, y0, x1, y1)\n",
    "            \n",
    "            \n",
    "        # pack all\n",
    "        self.canvas.pack()\n",
    "        \n",
    "\n",
    "        \n",
    "if __name__ == '__main__':        \n",
    "    env = MazeGrid()\n",
    "    env.mainloop()\n"
   ]
  },
  {
   "cell_type": "code",
   "execution_count": null,
   "metadata": {},
   "outputs": [],
   "source": []
  },
  {
   "cell_type": "code",
   "execution_count": null,
   "metadata": {},
   "outputs": [],
   "source": []
  }
 ],
 "metadata": {
  "kernelspec": {
   "display_name": "Python 3",
   "language": "python",
   "name": "python3"
  },
  "language_info": {
   "codemirror_mode": {
    "name": "ipython",
    "version": 3
   },
   "file_extension": ".py",
   "mimetype": "text/x-python",
   "name": "python",
   "nbconvert_exporter": "python",
   "pygments_lexer": "ipython3",
   "version": "3.6.1"
  }
 },
 "nbformat": 4,
 "nbformat_minor": 2
}
