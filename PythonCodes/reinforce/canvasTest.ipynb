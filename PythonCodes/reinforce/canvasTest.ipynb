{
 "cells": [
  {
   "cell_type": "code",
   "execution_count": 8,
   "metadata": {},
   "outputs": [],
   "source": [
    "import tkinter as tk\n",
    "\n",
    "window = tk.Tk()\n",
    "window.title('my window')\n",
    "window.geometry('800x800')\n",
    "\n",
    "canvas = tk.Canvas(window, bg='white', height=800, width=600)\n",
    "\n",
    "\n",
    "x0, y0, x1, y1= 50, 50, 80, 80\n",
    "line = canvas.create_line(x0, y0, x1, y1)\n",
    "oval = canvas.create_oval(x0, y0, x1, y1, fill='red')\n",
    "arc = canvas.create_arc(x0+30, y0+30, x1+30, y1+30, start=0, extent=180)\n",
    "rect = canvas.create_rectangle(100, 30, 100+20, 30+20)\n",
    "canvas.pack()\n",
    "\n",
    "def moveit():\n",
    "    canvas.move(rect, 0, 2)\n",
    "\n",
    "#b = tk.Button(window, text='move', command=moveit).pack()\n",
    "\n",
    "\n",
    "window.mainloop()"
   ]
  },
  {
   "cell_type": "code",
   "execution_count": null,
   "metadata": {},
   "outputs": [],
   "source": []
  }
 ],
 "metadata": {
  "kernelspec": {
   "display_name": "Python 3",
   "language": "python",
   "name": "python3"
  },
  "language_info": {
   "codemirror_mode": {
    "name": "ipython",
    "version": 3
   },
   "file_extension": ".py",
   "mimetype": "text/x-python",
   "name": "python",
   "nbconvert_exporter": "python",
   "pygments_lexer": "ipython3",
   "version": "3.6.1"
  }
 },
 "nbformat": 4,
 "nbformat_minor": 2
}
