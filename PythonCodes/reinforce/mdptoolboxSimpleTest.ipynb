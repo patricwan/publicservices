{
 "cells": [
  {
   "cell_type": "code",
   "execution_count": 13,
   "metadata": {},
   "outputs": [
    {
     "name": "stderr",
     "output_type": "stream",
     "text": [
      "INFO:pyswarms.single.local_best:Iteration 1/1000, cost: 0.0060502098074\n",
      "INFO:pyswarms.single.local_best:Iteration 51/1000, cost: 2.7420820739e-05\n",
      "INFO:pyswarms.single.local_best:Iteration 101/1000, cost: 3.86912944633e-07\n",
      "INFO:pyswarms.single.local_best:Iteration 151/1000, cost: 1.56773261308e-08\n",
      "INFO:pyswarms.single.local_best:Iteration 201/1000, cost: 6.42850711649e-11\n",
      "INFO:pyswarms.single.local_best:Iteration 251/1000, cost: 8.21498389951e-13\n",
      "INFO:pyswarms.single.local_best:Iteration 301/1000, cost: 4.65680170041e-16\n",
      "INFO:pyswarms.single.local_best:Iteration 351/1000, cost: 7.37773051603e-19\n",
      "INFO:pyswarms.single.local_best:Iteration 401/1000, cost: 2.4551758587e-19\n",
      "INFO:pyswarms.single.local_best:Iteration 451/1000, cost: 3.97523001734e-20\n",
      "INFO:pyswarms.single.local_best:Iteration 501/1000, cost: 4.92786482609e-24\n",
      "INFO:pyswarms.single.local_best:Iteration 551/1000, cost: 8.63501167274e-27\n",
      "INFO:pyswarms.single.local_best:Iteration 601/1000, cost: 2.4748325784e-28\n",
      "INFO:pyswarms.single.local_best:Iteration 651/1000, cost: 3.21796789963e-30\n",
      "INFO:pyswarms.single.local_best:Iteration 701/1000, cost: 1.37720108141e-32\n",
      "INFO:pyswarms.single.local_best:Iteration 751/1000, cost: 7.08064489091e-36\n",
      "INFO:pyswarms.single.local_best:Iteration 801/1000, cost: 5.68103662569e-36\n",
      "INFO:pyswarms.single.local_best:Iteration 851/1000, cost: 5.49670284418e-36\n",
      "INFO:pyswarms.single.local_best:Iteration 901/1000, cost: 2.59580910618e-40\n",
      "INFO:pyswarms.single.local_best:Iteration 951/1000, cost: 4.11867699913e-42\n",
      "INFO:pyswarms.single.local_best:================================\n",
      "Optimization finished!\n",
      "Final cost: 0.0000\n",
      "Best value: [-1.7667694761103099e-21, 1.6048159645008253e-22]\n",
      "\n"
     ]
    }
   ],
   "source": [
    "import mdptoolbox.example\n",
    "from matplotlib import cm\n",
    "from mpl_toolkits.mplot3d import Axes3D\n",
    "import math\n",
    "import matplotlib.pyplot as plt\n",
    "import numpy as np\n",
    "\n",
    "import pyswarms as ps\n",
    "from pyswarms.utils.functions import single_obj as fx\n",
    "\n",
    "import gym\n",
    "import random\n",
    "import tflearn\n",
    "from tflearn.layers.core import input_data, dropout, fully_connected\n",
    "from tflearn.layers.estimator import regression\n",
    "from statistics import median, mean\n",
    "from collections import Counter\n",
    "\n",
    "def rastrigin(*X, **kwargs):\n",
    "    A = kwargs.get('A', 10)\n",
    "    return A + sum([(x**2 - A * np.cos(2 * math.pi * x)) for x in X])\n",
    "\n",
    "\n",
    "\n",
    "P,R = mdptoolbox.example.forest()\n",
    "\n",
    "vi = mdptoolbox.mdp.ValueIteration(P, R, 0.8)\n",
    "vi.run()\n",
    "vi.policy # result is (0, 0, 0)\n",
    "\n",
    "\n",
    "fh = mdptoolbox.mdp.FiniteHorizon(P, R, 0.9, 3)\n",
    "fh.run()\n",
    "fh.V\n",
    "\n",
    "#if __name__ == '__main__':\n",
    "X = np.linspace(-4, 8, 200)\n",
    "Y = np.linspace(-5, 5, 100)\n",
    "X, Y = np.meshgrid(X, Y)\n",
    "Z = rastrigin(X, Y, A=11)\n",
    "fig = plt.figure()\n",
    "ax = fig.gca(projection='3d')\n",
    "ax.plot_surface(X, Y, Z, rstride=1, cstride=1, cmap=cm.plasma, linewidth=0, antialiased=False)\n",
    "plt.savefig('rastrigin.png')\n",
    "\n",
    "\n",
    "options = {'c1': 0.5, 'c2': 0.3, 'w':0.9, 'k': 2, 'p': 2}\n",
    "optimizer = ps.single.LocalBestPSO(n_particles=10, dimensions=2,options=options)\n",
    "cost, pos = optimizer.optimize(fx.sphere_func, print_step=50,iters=1000, verbose=3)\n",
    "\n",
    "LR = 1e-3\n",
    "env = gym.make(\"CartPole-v0\")\n",
    "env.reset()\n"
   ]
  },
  {
   "cell_type": "code",
   "execution_count": null,
   "metadata": {},
   "outputs": [],
   "source": []
  }
 ],
 "metadata": {
  "kernelspec": {
   "display_name": "Python 3",
   "language": "python",
   "name": "python3"
  },
  "language_info": {
   "codemirror_mode": {
    "name": "ipython",
    "version": 3
   },
   "file_extension": ".py",
   "mimetype": "text/x-python",
   "name": "python",
   "nbconvert_exporter": "python",
   "pygments_lexer": "ipython3",
   "version": "3.6.1"
  }
 },
 "nbformat": 4,
 "nbformat_minor": 2
}
