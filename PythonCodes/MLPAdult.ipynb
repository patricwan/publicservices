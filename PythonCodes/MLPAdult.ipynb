{
 "cells": [
  {
   "cell_type": "code",
   "execution_count": null,
   "metadata": {},
   "outputs": [],
   "source": [
    "import pandas as pd\n",
    "import numpy as np\n",
    "\n",
    "#from sklearn import svm\n",
    "from sklearn.neural_network import MLPClassifier\n",
    "\n",
    "from matplotlib import pyplot\n",
    "import seaborn as sns\n",
    "%matplotlib inline\n",
    "\n",
    "dpath = './data/adult/'\n",
    "train = pd.read_csv(dpath +\"adultTrainLamda.csv\")\n",
    "train.head()"
   ]
  },
  {
   "cell_type": "code",
   "execution_count": null,
   "metadata": {},
   "outputs": [],
   "source": [
    "y_train = train['IncomeRes']   \n",
    "train = train.drop([\"IncomeRes\"], axis=1)\n",
    "X_train = np.array(train)\n",
    "\n",
    "from sklearn.preprocessing import StandardScaler\n",
    "ss_X = StandardScaler()\n",
    "X_train = ss_X.fit_transform(X_train)\n",
    "\n",
    "from sklearn.model_selection import train_test_split\n",
    "X_train_part, X_val, y_train_part, y_val = train_test_split(X_train, y_train, train_size = 0.8,random_state = 0)\n",
    "\n"
   ]
  },
  {
   "cell_type": "code",
   "execution_count": null,
   "metadata": {},
   "outputs": [],
   "source": [
    "clf_MLP = MLPClassifier(hidden_layer_sizes=(1000,), random_state=1)\n",
    "clf_MLP.fit(X_train_part, y_train_part)\n",
    "\n",
    "from sklearn import  metrics\n",
    "from sklearn.metrics import accuracy_score\n",
    "\n",
    "#accuracy and confusion matrix\n",
    "y_predict = clf_MLP.predict(X_val)\n",
    "\n",
    "#return accuracy\n",
    "val_accuracy = accuracy_score(y_val, y_predict)\n",
    "print (\"Validation Accuary: %.2f%%\" % (val_accuracy * 100.0))"
   ]
  }
 ],
 "metadata": {
  "kernelspec": {
   "display_name": "Python 3",
   "language": "python",
   "name": "python3"
  },
  "language_info": {
   "codemirror_mode": {
    "name": "ipython",
    "version": 3
   },
   "file_extension": ".py",
   "mimetype": "text/x-python",
   "name": "python",
   "nbconvert_exporter": "python",
   "pygments_lexer": "ipython3",
   "version": "3.6.1"
  }
 },
 "nbformat": 4,
 "nbformat_minor": 2
}
