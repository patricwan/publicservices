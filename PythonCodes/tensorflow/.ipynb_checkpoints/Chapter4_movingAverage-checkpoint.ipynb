{
 "cells": [
  {
   "cell_type": "code",
   "execution_count": 4,
   "metadata": {},
   "outputs": [
    {
     "name": "stdout",
     "output_type": "stream",
     "text": [
      "ema <tensorflow.python.training.moving_averages.ExponentialMovingAverage object at 0x00000185ECE1AF98>\n",
      "[v1, ema.average(v1)] [0.0, 0.0]\n",
      "[5.0, 4.5]\n",
      "[10.0, 4.555]\n",
      "[10.0, 4.60945]\n"
     ]
    }
   ],
   "source": [
    "import tensorflow as tf\n",
    "\n",
    "v1 = tf.Variable(0, dtype=tf.float32)\n",
    "step = tf.Variable(0, trainable = False)\n",
    "\n",
    "ema = tf.train.ExponentialMovingAverage(0.99, step)\n",
    "print(\"ema\", ema)\n",
    "\n",
    "maintain_averages_op = ema.apply([v1])\n",
    "\n",
    "with tf.Session() as sess:\n",
    "    init_op = tf.initialize_all_variables()\n",
    "    sess.run(init_op)\n",
    "    \n",
    "    print(\"[v1, ema.average(v1)]\", sess.run([v1, ema.average(v1)]))\n",
    "    \n",
    "    sess.run(tf.assign(v1, 5))\n",
    "    \n",
    "    sess.run(maintain_averages_op)\n",
    "    print(\"[v1, ema.average after v1 is 5]\",sess.run([v1,ema.average(v1)]))\n",
    "    \n",
    "    sess.run(tf.assign(step, 10000))\n",
    "    sess.run(tf.assign(v1, 10))\n",
    "    \n",
    "    sess.run(maintain_averages_op)\n",
    "    print(sess.run([v1, ema.average(v1)]))\n",
    "    \n",
    "    sess.run(maintain_averages_op)\n",
    "    print(sess.run([v1,ema.average(v1)]))\n",
    "    \n"
   ]
  }
 ],
 "metadata": {
  "kernelspec": {
   "display_name": "Python 3",
   "language": "python",
   "name": "python3"
  },
  "language_info": {
   "codemirror_mode": {
    "name": "ipython",
    "version": 3
   },
   "file_extension": ".py",
   "mimetype": "text/x-python",
   "name": "python",
   "nbconvert_exporter": "python",
   "pygments_lexer": "ipython3",
   "version": "3.6.1"
  }
 },
 "nbformat": 4,
 "nbformat_minor": 2
}
