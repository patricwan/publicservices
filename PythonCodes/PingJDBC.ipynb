{
 "cells": [
  {
   "cell_type": "code",
   "execution_count": 1,
   "metadata": {},
   "outputs": [],
   "source": [
    "import numpy as np # linear algebra\n",
    "import pandas as pd # data processing, CSV file I/O\n",
    "\n",
    "from sklearn.metrics import r2_score   \n",
    "\n",
    "from sklearn.model_selection import train_test_split\n",
    "from sklearn.decomposition import PCA\n",
    "import matplotlib.pyplot as plt\n",
    "import seaborn as sns\n",
    "\n",
    "# Note book display plot\n",
    "%matplotlib inline\n",
    "\n",
    "# path to where the data lies\n",
    "dpath = './data/'\n",
    "dataFrame = pd.read_csv(dpath +\"PingJDBC.csv\")\n",
    "dataFrame.head()\n",
    "\n",
    "y = dataFrame['JDBC']\n",
    "X = dataFrame.drop(\"JDBC\",axis=1)\n",
    "\n",
    "X_train, X_test, y_train, y_test = train_test_split(X,y, train_size = 0.8,random_state = 0)"
   ]
  },
  {
   "cell_type": "code",
   "execution_count": 3,
   "metadata": {},
   "outputs": [
    {
     "name": "stdout",
     "output_type": "stream",
     "text": [
      "Train Score -11.843429801293004\n",
      "Test Score -10.63846209571644\n"
     ]
    }
   ],
   "source": [
    "from sklearn.neural_network import MLPRegressor\n",
    "\n",
    "reg = MLPRegressor(hidden_layer_sizes=(15,),  activation='relu', solver='adam', alpha=0.01,batch_size='auto',\n",
    "                  learning_rate='constant', learning_rate_init=0.01, power_t=0.5, max_iter=900, shuffle=True,\n",
    "                  random_state=None, tol=0.0001, verbose=False, warm_start=False, momentum=0.9,\n",
    "                  nesterovs_momentum=True, early_stopping=False, validation_fraction=0.1, beta_1=0.99, beta_2=0.999,\n",
    "                  epsilon=1e-08)\n",
    "\n",
    "reg = reg.fit(X_train, y_train)\n",
    "\n",
    "y_predic = reg.predict(X_test)\n",
    "print(\"Train Score\",reg.score(X_train,y_train))\n",
    "print(\"Test Score\",reg.score(X_test,y_test))"
   ]
  },
  {
   "cell_type": "code",
   "execution_count": null,
   "metadata": {},
   "outputs": [],
   "source": []
  }
 ],
 "metadata": {
  "kernelspec": {
   "display_name": "Python 3",
   "language": "python",
   "name": "python3"
  },
  "language_info": {
   "codemirror_mode": {
    "name": "ipython",
    "version": 3
   },
   "file_extension": ".py",
   "mimetype": "text/x-python",
   "name": "python",
   "nbconvert_exporter": "python",
   "pygments_lexer": "ipython3",
   "version": "3.6.1"
  }
 },
 "nbformat": 4,
 "nbformat_minor": 2
}
