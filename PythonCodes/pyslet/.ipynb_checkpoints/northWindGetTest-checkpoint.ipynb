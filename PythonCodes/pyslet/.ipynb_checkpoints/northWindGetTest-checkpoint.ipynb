{
 "cells": [
  {
   "cell_type": "code",
   "execution_count": 5,
   "metadata": {},
   "outputs": [
    {
     "name": "stderr",
     "output_type": "stream",
     "text": [
      "INFO:root:Sending request to b'services.odata.org'\n",
      "INFO:root:b'GET /V2/Northwind/Northwind.svc/ HTTP/1.1'\n",
      "INFO:root:Finished Response, status 200\n",
      "INFO:root:Sending request to b'services.odata.org'\n",
      "INFO:root:b'GET /V2/Northwind/Northwind.svc/$metadata HTTP/1.1'\n",
      "INFO:root:Finished Response, status 200\n",
      "INFO:root:Sending request to b'services.odata.org'\n",
      "INFO:root:b'GET /V2/Northwind/Northwind.svc/Products HTTP/1.1'\n",
      "INFO:root:Finished Response, status 200\n",
      "INFO:root:Sending request to b'services.odata.org'\n",
      "INFO:root:b'GET /V2/Northwind/Northwind.svc/Products?$skiptoken=20 HTTP/1.1'\n"
     ]
    },
    {
     "name": "stdout",
     "output_type": "stream",
     "text": [
      "1 Chai\n",
      "2 Chang\n",
      "3 Aniseed Syrup\n",
      "4 Chef Anton's Cajun Seasoning\n",
      "5 Chef Anton's Gumbo Mix\n",
      "6 Grandma's Boysenberry Spread\n",
      "7 Uncle Bob's Organic Dried Pears\n",
      "8 Northwoods Cranberry Sauce\n",
      "9 Mishi Kobe Niku\n",
      "10 Ikura\n",
      "11 Queso Cabrales\n",
      "12 Queso Manchego La Pastora\n",
      "13 Konbu\n",
      "14 Tofu\n",
      "15 Genen Shouyu\n",
      "16 Pavlova\n",
      "17 Alice Mutton\n",
      "18 Carnarvon Tigers\n",
      "19 Teatime Chocolate Biscuits\n",
      "20 Sir Rodney's Marmalade\n"
     ]
    },
    {
     "name": "stderr",
     "output_type": "stream",
     "text": [
      "INFO:root:Finished Response, status 200\n",
      "INFO:root:Sending request to b'services.odata.org'\n",
      "INFO:root:b'GET /V2/Northwind/Northwind.svc/Products?$skiptoken=40 HTTP/1.1'\n"
     ]
    },
    {
     "name": "stdout",
     "output_type": "stream",
     "text": [
      "21 Sir Rodney's Scones\n",
      "22 Gustaf's Knäckebröd\n",
      "23 Tunnbröd\n",
      "24 Guaraná Fantástica\n",
      "25 NuNuCa Nuß-Nougat-Creme\n",
      "26 Gumbär Gummibärchen\n",
      "27 Schoggi Schokolade\n",
      "28 Rössle Sauerkraut\n",
      "29 Thüringer Rostbratwurst\n",
      "30 Nord-Ost Matjeshering\n",
      "31 Gorgonzola Telino\n",
      "32 Mascarpone Fabioli\n",
      "33 Geitost\n",
      "34 Sasquatch Ale\n",
      "35 Steeleye Stout\n",
      "36 Inlagd Sill\n",
      "37 Gravad lax\n",
      "38 Côte de Blaye\n",
      "39 Chartreuse verte\n",
      "40 Boston Crab Meat\n"
     ]
    },
    {
     "name": "stderr",
     "output_type": "stream",
     "text": [
      "INFO:root:Finished Response, status 200\n",
      "INFO:root:Sending request to b'services.odata.org'\n",
      "INFO:root:b'GET /V2/Northwind/Northwind.svc/Products?$skiptoken=60 HTTP/1.1'\n"
     ]
    },
    {
     "name": "stdout",
     "output_type": "stream",
     "text": [
      "41 Jack's New England Clam Chowder\n",
      "42 Singaporean Hokkien Fried Mee\n",
      "43 Ipoh Coffee\n",
      "44 Gula Malacca\n",
      "45 Rogede sild\n",
      "46 Spegesild\n",
      "47 Zaanse koeken\n",
      "48 Chocolade\n",
      "49 Maxilaku\n",
      "50 Valkoinen suklaa\n",
      "51 Manjimup Dried Apples\n",
      "52 Filo Mix\n",
      "53 Perth Pasties\n",
      "54 Tourtière\n",
      "55 Pâté chinois\n",
      "56 Gnocchi di nonna Alice\n",
      "57 Ravioli Angelo\n",
      "58 Escargots de Bourgogne\n",
      "59 Raclette Courdavault\n",
      "60 Camembert Pierrot\n"
     ]
    },
    {
     "name": "stderr",
     "output_type": "stream",
     "text": [
      "INFO:root:Finished Response, status 200\n",
      "INFO:root:Sending request to b'services.odata.org'\n",
      "INFO:root:b'GET /V2/Northwind/Northwind.svc/Products(21) HTTP/1.1'\n"
     ]
    },
    {
     "name": "stdout",
     "output_type": "stream",
     "text": [
      "61 Sirop d'érable\n",
      "62 Tarte au sucre\n",
      "63 Vegie-spread\n",
      "64 Wimmers gute Semmelknödel\n",
      "65 Louisiana Fiery Hot Pepper Sauce\n",
      "66 Louisiana Hot Spiced Okra\n",
      "67 Laughing Lumberjack Lager\n",
      "68 Scottish Longbreads\n",
      "69 Gudbrandsdalsost\n",
      "70 Outback Lager\n",
      "71 Flotemysost\n",
      "72 Mozzarella di Giovanni\n",
      "73 Röd Kaviar\n",
      "74 Longlife Tofu\n",
      "75 Rhönbräu Klosterbier\n",
      "76 Lakkalikööri\n",
      "77 Original Frankfurter grüne Soße\n"
     ]
    },
    {
     "name": "stderr",
     "output_type": "stream",
     "text": [
      "INFO:root:Finished Response, status 200\n",
      "INFO:root:Sending request to b'services.odata.org'\n",
      "INFO:root:b'GET /V2/Northwind/Northwind.svc/Products(21)/Supplier HTTP/1.1'\n"
     ]
    },
    {
     "name": "stdout",
     "output_type": "stream",
     "text": [
      "ProductID 21\n",
      "ProductName Sir Rodney's Scones\n",
      "SupplierID 8\n",
      "CategoryID 3\n",
      "QuantityPerUnit 24 pkgs. x 4 pieces\n",
      "UnitPrice 10.0000\n",
      "UnitsInStock 3\n",
      "UnitsOnOrder 40\n",
      "ReorderLevel 5\n",
      "Discontinued False\n"
     ]
    },
    {
     "name": "stderr",
     "output_type": "stream",
     "text": [
      "INFO:root:Finished Response, status 200\n"
     ]
    },
    {
     "name": "stdout",
     "output_type": "stream",
     "text": [
      "SupplierID 8\n",
      "CompanyName Specialty Biscuits, Ltd.\n",
      "ContactName Peter Wilson\n",
      "ContactTitle Sales Representative\n",
      "Address 29 King's Way\n",
      "City Manchester\n",
      "Region None\n",
      "PostalCode M14 GSD\n",
      "Country UK\n",
      "Phone (161) 555-4448\n",
      "Fax None\n",
      "HomePage None\n"
     ]
    }
   ],
   "source": [
    "import logging\n",
    "\n",
    "from pyslet.odata2.client import Client\n",
    "\n",
    "logging.basicConfig(level=logging.INFO)\n",
    "\n",
    "c = Client(\"http://services.odata.org/V2/Northwind/Northwind.svc/\")\n",
    "\n",
    "products = c.feeds['Products'].open()\n",
    "\n",
    "for k, p in products.iteritems(): \n",
    "      print(k, p['ProductName'].value)\n",
    "\n",
    "scones = products[21]\n",
    "for k, v in scones.data_items(): \n",
    "    print(k, v.value)\n",
    "\n",
    "supplier = scones['Supplier'].get_entity()\n",
    "for k, v in supplier.data_items(): \n",
    "    print(k, v.value)\n",
    "\n",
    "products.close()\n",
    "\n"
   ]
  },
  {
   "cell_type": "code",
   "execution_count": null,
   "metadata": {},
   "outputs": [],
   "source": []
  },
  {
   "cell_type": "code",
   "execution_count": null,
   "metadata": {},
   "outputs": [],
   "source": []
  }
 ],
 "metadata": {
  "kernelspec": {
   "display_name": "Python 3",
   "language": "python",
   "name": "python3"
  },
  "language_info": {
   "codemirror_mode": {
    "name": "ipython",
    "version": 3
   },
   "file_extension": ".py",
   "mimetype": "text/x-python",
   "name": "python",
   "nbconvert_exporter": "python",
   "pygments_lexer": "ipython3",
   "version": "3.6.1"
  }
 },
 "nbformat": 4,
 "nbformat_minor": 2
}
