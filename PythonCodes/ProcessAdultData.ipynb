{
 "cells": [
  {
   "cell_type": "code",
   "execution_count": 1,
   "metadata": {},
   "outputs": [],
   "source": [
    "import numpy as np \n",
    "import pandas as pd\n",
    "import random\n",
    "import datetime\n",
    "\n",
    "def oneHotForFeatures(df, columnName):\n",
    "    onehot = pd.get_dummies(df[columnName],prefix=columnName)\n",
    "    df = df.drop(columnName, axis =1)\n",
    "    df = df.join(onehot)\n",
    "    return df\n",
    "\n",
    "\n",
    "dataPath = './data/adult/'\n",
    "dfAdultTrain = pd.read_csv(dataPath + \"adultTest.csv\")\n",
    "\n",
    "#Fill in the NA with median value\n",
    "dfAdultTrain['Age'].fillna(dfAdultTrain['Age'].median(), inplace=True) \n",
    "dfAdultTrain['EduNum'].fillna(dfAdultTrain['EduNum'].median(), inplace=True) \n",
    "#Drop the rows with >=thresh NAs \n",
    "dfAdultTrain.dropna(thresh=1)\n",
    "\n",
    "#One hot for features \n",
    "dfAdultTrain = oneHotForFeatures(dfAdultTrain, 'workclass')\n",
    "dfAdultTrain = oneHotForFeatures(dfAdultTrain, 'Education')\n",
    "dfAdultTrain = oneHotForFeatures(dfAdultTrain, 'Marriage')\n",
    "dfAdultTrain = oneHotForFeatures(dfAdultTrain, 'WorkType')\n",
    "dfAdultTrain = oneHotForFeatures(dfAdultTrain, 'Family')\n",
    "dfAdultTrain = oneHotForFeatures(dfAdultTrain, 'Race')\n",
    "dfAdultTrain = oneHotForFeatures(dfAdultTrain, 'Sex')\n",
    "dfAdultTrain = oneHotForFeatures(dfAdultTrain, 'Country')\n",
    "\n",
    "#Convert the income to be 0,1 output \n",
    "incomeResult = {\"<=50K\":0,\">50K\":1}\n",
    "dfAdultTrain['Income'] = dfAdultTrain['Income'].str.replace(' ', '')\n",
    "dfAdultTrain['IncomeRes'] = dfAdultTrain['Income'].apply(incomeResult.get).astype(float)\n",
    "dfAdultTrain = dfAdultTrain.drop('Income', 1)\n",
    "\n",
    "dfAdultTrain.to_csv(dataPath + \"adultTestClean.csv\")\n",
    "\n",
    "\n",
    "\n",
    "\n"
   ]
  },
  {
   "cell_type": "code",
   "execution_count": null,
   "metadata": {},
   "outputs": [],
   "source": []
  },
  {
   "cell_type": "code",
   "execution_count": null,
   "metadata": {},
   "outputs": [],
   "source": []
  }
 ],
 "metadata": {
  "kernelspec": {
   "display_name": "Python 3",
   "language": "python",
   "name": "python3"
  },
  "language_info": {
   "codemirror_mode": {
    "name": "ipython",
    "version": 3
   },
   "file_extension": ".py",
   "mimetype": "text/x-python",
   "name": "python",
   "nbconvert_exporter": "python",
   "pygments_lexer": "ipython3",
   "version": "3.6.1"
  }
 },
 "nbformat": 4,
 "nbformat_minor": 2
}
