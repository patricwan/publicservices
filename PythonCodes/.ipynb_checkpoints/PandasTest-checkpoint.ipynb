{
 "cells": [
  {
   "cell_type": "code",
   "execution_count": 1,
   "metadata": {},
   "outputs": [
    {
     "name": "stdout",
     "output_type": "stream",
     "text": [
      "a [1 2 5]\n",
      "b [[1 2 3]\n",
      " [4 5 6]]\n",
      "A [[0 1 2]\n",
      " [3 4 5]\n",
      " [6 7 8]]\n",
      "B [[ 1.  1.  1.]\n",
      " [ 1.  1.  1.]\n",
      " [ 1.  1.  1.]]\n",
      "0    12\n",
      "1    -4\n",
      "2     7\n",
      "3     9\n",
      "dtype: int64\n",
      "n_s [ 0.7         0.71071429  0.72142857  0.73214286  0.74285714  0.75357143\n",
      "  0.76428571  0.775       0.78571429  0.79642857  0.80714286  0.81785714\n",
      "  0.82857143  0.83928571  0.85      ]\n"
     ]
    },
    {
     "ename": "NameError",
     "evalue": "name 'csvFrame' is not defined",
     "output_type": "error",
     "traceback": [
      "\u001b[1;31m---------------------------------------------------------------------------\u001b[0m",
      "\u001b[1;31mNameError\u001b[0m                                 Traceback (most recent call last)",
      "\u001b[1;32m<ipython-input-1-41628f3dec7f>\u001b[0m in \u001b[0;36m<module>\u001b[1;34m()\u001b[0m\n\u001b[0;32m     25\u001b[0m \u001b[1;31m#print(\"csvFrame\",csvFrame)\u001b[0m\u001b[1;33m\u001b[0m\u001b[1;33m\u001b[0m\u001b[0m\n\u001b[0;32m     26\u001b[0m \u001b[1;33m\u001b[0m\u001b[0m\n\u001b[1;32m---> 27\u001b[1;33m \u001b[0mprint\u001b[0m\u001b[1;33m(\u001b[0m\u001b[0mcsvFrame\u001b[0m\u001b[1;33m.\u001b[0m\u001b[0mcolumns\u001b[0m\u001b[1;33m)\u001b[0m\u001b[1;33m\u001b[0m\u001b[0m\n\u001b[0m\u001b[0;32m     28\u001b[0m \u001b[0mprint\u001b[0m\u001b[1;33m(\u001b[0m\u001b[0mcsvFrame\u001b[0m\u001b[1;33m.\u001b[0m\u001b[0mdescribe\u001b[0m\u001b[1;33m)\u001b[0m\u001b[1;33m\u001b[0m\u001b[0m\n\u001b[0;32m     29\u001b[0m \u001b[1;33m\u001b[0m\u001b[0m\n",
      "\u001b[1;31mNameError\u001b[0m: name 'csvFrame' is not defined"
     ]
    }
   ],
   "source": [
    "import numpy as np\n",
    "import pandas as pd\n",
    "\n",
    "a = np.array([1,2,5])\n",
    "print(\"a\", a)\n",
    "\n",
    "b = np.array([[1,2,3],[4,5,6]])\n",
    "print(\"b\",b)\n",
    "\n",
    "A = np.arange(0,9).reshape(3,3)\n",
    "print(\"A\",A)\n",
    "B = np.ones((3,3))\n",
    "print(\"B\",B)\n",
    "np.dot(A,B)\n",
    "\n",
    "se1 = pd.Series([12,-4,7,9])\n",
    "\n",
    "print(se1)\n",
    "\n",
    "n_s = np.linspace(0.70, 0.85, num=15)\n",
    "print(\"n_s\",n_s)\n",
    "\n",
    "#csvFrame = pd.read_csv(\"C:\\\\personalData\\\\bigdata\\\\survey_results_public\\\\survey_results_public.csv\")\n",
    "\n",
    "#print(\"csvFrame\",csvFrame)\n",
    "\n",
    "#print(csvFrame.columns)\n",
    "#print(csvFrame.describe)\n",
    "\n",
    "\n",
    "\n",
    "\n",
    "\n",
    "\n"
   ]
  },
  {
   "cell_type": "code",
   "execution_count": null,
   "metadata": {},
   "outputs": [],
   "source": []
  },
  {
   "cell_type": "code",
   "execution_count": null,
   "metadata": {},
   "outputs": [],
   "source": []
  }
 ],
 "metadata": {
  "kernelspec": {
   "display_name": "Python 3",
   "language": "python",
   "name": "python3"
  },
  "language_info": {
   "codemirror_mode": {
    "name": "ipython",
    "version": 3
   },
   "file_extension": ".py",
   "mimetype": "text/x-python",
   "name": "python",
   "nbconvert_exporter": "python",
   "pygments_lexer": "ipython3",
   "version": "3.6.1"
  }
 },
 "nbformat": 4,
 "nbformat_minor": 2
}
