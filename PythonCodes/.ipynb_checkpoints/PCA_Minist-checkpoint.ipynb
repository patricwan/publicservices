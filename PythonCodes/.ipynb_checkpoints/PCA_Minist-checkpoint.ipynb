{
 "cells": [
  {
   "cell_type": "code",
   "execution_count": null,
   "metadata": {},
   "outputs": [],
   "source": [
    "#导入必要的工具包\n",
    "import pandas as pd\n",
    "import numpy as np\n",
    "from sklearn import svm\n",
    "from sklearn.model_selection import train_test_split\n",
    "from sklearn.decomposition import PCA\n",
    "import time"
   ]
  },
  {
   "cell_type": "code",
   "execution_count": null,
   "metadata": {},
   "outputs": [],
   "source": [
    "n_s = np.linspace(0.70, 0.85, num=15)\n",
    "print(\"n_s\",n_s)\n",
    "#读取训练数据和测试数据\n",
    "train = pd.read_csv('./data/MNIST_train.csv')\n",
    "test = pd.read_csv('./data/MNIST_test.csv')\n",
    "\n",
    "y_train = train.label.values\n",
    "X_train = train.drop(\"label\",axis=1).values\n",
    "X_test = test.values "
   ]
  },
  {
   "cell_type": "code",
   "execution_count": null,
   "metadata": {},
   "outputs": [],
   "source": [
    "#将像素值[0,255]  --> [0,1]\n",
    "X_train = X_train / 255.0\n",
    "X_test = X_test / 255.0"
   ]
  },
  {
   "cell_type": "code",
   "execution_count": null,
   "metadata": {},
   "outputs": [],
   "source": [
    "# 原始输入的特征维数和样本数目\n",
    "print('the shape of train_image: {}'.format(X_train.shape))\n",
    "print('the shape of test_image: {}'.format(X_test.shape))"
   ]
  },
  {
   "cell_type": "code",
   "execution_count": null,
   "metadata": {},
   "outputs": [],
   "source": [
    "# 将训练集合拆分成训练集和校验集，在校验集上找到最佳的模型超参数（PCA的维数）\n",
    "X_train_part, X_val, y_train_part, y_val = train_test_split(X_train,y_train, train_size = 0.8,random_state = 0)"
   ]
  },
  {
   "cell_type": "code",
   "execution_count": null,
   "metadata": {},
   "outputs": [],
   "source": [
    "#拆分后的训练集和校验集的样本数目\n",
    "print(X_train_part.shape)\n",
    "print(X_val.shape)"
   ]
  },
  {
   "cell_type": "code",
   "execution_count": null,
   "metadata": {},
   "outputs": [],
   "source": [
    "# 一个参数点（PCA维数为n）的模型训练和测试，得到该参数下模型在校验集上的预测性能\n",
    "def n_component_analysis(n, X_train, y_train, X_val, y_val):\n",
    "    start = time.time()\n",
    "    pca = PCA(n_components=n)\n",
    "    print(\"PCA begin with n_components: {}\".format(n));\n",
    "    pca.fit(X_train)\n",
    "    # 在训练集和测试集降维 \n",
    "    X_train_pca = pca.transform(X_train)\n",
    "    X_val_pca = pca.transform(X_val)\n",
    "    print(\"After PCA shape\", X_train_pca.shape)\n",
    "    # 利用SVC训练\n",
    "    print('SVC begin')\n",
    "    clf1 = svm.SVC()\n",
    "    clf1.fit(X_train_pca, y_train)\n",
    "    # 返回accuracy\n",
    "    accuracy = clf1.score(X_val_pca, y_val)\n",
    "    end = time.time()\n",
    "    print(\"accuracy: {}, time elaps:{}\".format(accuracy, int(end-start)))\n",
    "    return accuracy"
   ]
  },
  {
   "cell_type": "code",
   "execution_count": null,
   "metadata": {},
   "outputs": [],
   "source": [
    "# 设置超参数（PCA维数）搜索范围\n",
    "n_s = np.linspace(0.70, 0.85, num=15)\n",
    "accuracy = []\n",
    "for n in n_s:\n",
    "    tmp = n_component_analysis(n, X_train_part, y_train_part, X_val, y_val)\n",
    "    accuracy.append(tmp)"
   ]
  },
  {
   "cell_type": "code",
   "execution_count": null,
   "metadata": {},
   "outputs": [],
   "source": [
    "# 绘制不同PCA维数下模型的性能，找到最佳模型／参数（分数最高）\n",
    "import matplotlib.pyplot as plt\n",
    "%matplotlib inline\n",
    "plt.plot(n_s, np.array(accuracy), 'b-')"
   ]
  },
  {
   "cell_type": "code",
   "execution_count": null,
   "metadata": {},
   "outputs": [],
   "source": [
    "#最佳模型参数\n",
    "pca = PCA(n_components=0.75)\n",
    "\n",
    "#根据最佳参数，在全体训练数据上重新训练模型\n",
    "pca.fit(X_train)"
   ]
  },
  {
   "cell_type": "code",
   "execution_count": null,
   "metadata": {},
   "outputs": [],
   "source": [
    "pca.n_components_"
   ]
  },
  {
   "cell_type": "code",
   "execution_count": null,
   "metadata": {},
   "outputs": [],
   "source": [
    "pca.explained_variance_ratio_"
   ]
  },
  {
   "cell_type": "code",
   "execution_count": null,
   "metadata": {},
   "outputs": [],
   "source": [
    "#根据最佳参数，对全体训练数据降维\n",
    "X_train_pca = pca.transform(X_train)\n",
    "\n",
    "#根据最佳参数，对测试数据降维\n",
    "X_test_pca = pca.transform(X_test)"
   ]
  },
  {
   "cell_type": "code",
   "execution_count": null,
   "metadata": {},
   "outputs": [],
   "source": [
    "# 降维后的特征维数\n",
    "print(X_train_pca.shape)\n",
    "print(X_test_pca.shape)"
   ]
  },
  {
   "cell_type": "code",
   "execution_count": null,
   "metadata": {},
   "outputs": [],
   "source": [
    "#在降维后的训练数据集上训练SVM分类器\n",
    "clf = svm.SVC()\n",
    "clf.fit(X_train_pca, y_train)"
   ]
  },
  {
   "cell_type": "code",
   "execution_count": null,
   "metadata": {},
   "outputs": [],
   "source": [
    "# 用在降维后的全体训练数据集上训练的模型对测试集进行测试\n",
    "y_predict = clf.predict(X_test_pca)"
   ]
  },
  {
   "cell_type": "code",
   "execution_count": null,
   "metadata": {},
   "outputs": [],
   "source": [
    "#生成提交测试结果\n",
    "import pandas as pd\n",
    "df = pd.DataFrame(y_predict)\n",
    "df.columns=['Label']\n",
    "df.index+=1\n",
    "df.index.name = 'Imageid'\n",
    "df.to_csv('SVC_Minist_submission.csv', header=True)"
   ]
  }
 ],
 "metadata": {
  "kernelspec": {
   "display_name": "Python 3",
   "language": "python",
   "name": "python3"
  },
  "language_info": {
   "codemirror_mode": {
    "name": "ipython",
    "version": 3
   },
   "file_extension": ".py",
   "mimetype": "text/x-python",
   "name": "python",
   "nbconvert_exporter": "python",
   "pygments_lexer": "ipython3",
   "version": "3.6.1"
  }
 },
 "nbformat": 4,
 "nbformat_minor": 2
}
