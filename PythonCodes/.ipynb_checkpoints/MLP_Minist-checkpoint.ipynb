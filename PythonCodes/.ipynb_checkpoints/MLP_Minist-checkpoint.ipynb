{
 "cells": [
  {
   "cell_type": "code",
   "execution_count": 1,
   "metadata": {},
   "outputs": [],
   "source": [
    "# 导入必要的工具包\n",
    "import pandas as pd\n",
    "import numpy as np\n",
    "\n",
    "#from sklearn import svm\n",
    "from sklearn.neural_network import MLPClassifier\n",
    "from sklearn.model_selection import train_test_split\n",
    "from sklearn.decomposition import PCA\n",
    "\n",
    "from matplotlib import pyplot\n",
    "import seaborn as sns\n",
    "%matplotlib inline"
   ]
  },
  {
   "cell_type": "code",
   "execution_count": 2,
   "metadata": {},
   "outputs": [],
   "source": [
    "# 读取训练数据和测试数据\n",
    "train = pd.read_csv('./data/MNIST_train.csv')\n",
    "test = pd.read_csv('./data/MNIST_test.csv')\n",
    "\n",
    "y_train = train.label.values\n",
    "X_train = train.drop(\"label\",axis=1).values\n",
    "X_test = test.values "
   ]
  },
  {
   "cell_type": "code",
   "execution_count": 3,
   "metadata": {},
   "outputs": [
    {
     "data": {
      "image/png": "[encoded data removed]",
      "text/plain": [
       "<matplotlib.figure.Figure at 0x21290776e10>"
      ]
     },
     "metadata": {},
     "output_type": "display_data"
    }
   ],
   "source": [
    "# 打印数据集的前15个训练图像\n",
    "fig1, ax1 = pyplot.subplots(1,15, figsize=(15,10))\n",
    "for i in range(15):\n",
    "    ax1[i].imshow(X_train[i].reshape((28,28)))\n",
    "    ax1[i].axis('off')\n",
    "    ax1[i].set_title(y_train[i])"
   ]
  },
  {
   "cell_type": "code",
   "execution_count": 4,
   "metadata": {},
   "outputs": [],
   "source": [
    "#将像素值[0,255]  --> [0,1]\n",
    "X_train = X_train / 255.0\n",
    "X_test = X_test / 255.0"
   ]
  },
  {
   "cell_type": "code",
   "execution_count": 5,
   "metadata": {},
   "outputs": [
    {
     "name": "stdout",
     "output_type": "stream",
     "text": [
      "the shape of train_image: (42000, 784)\n"
     ]
    }
   ],
   "source": [
    "#全体训练数据规模\n",
    "print('the shape of train_image: {}'.format(X_train.shape))"
   ]
  },
  {
   "cell_type": "code",
   "execution_count": 6,
   "metadata": {},
   "outputs": [
    {
     "data": {
      "text/plain": [
       "PCA(copy=True, iterated_power='auto', n_components=0.75, random_state=None,\n",
       "  svd_solver='auto', tol=0.0, whiten=False)"
      ]
     },
     "execution_count": 6,
     "metadata": {},
     "output_type": "execute_result"
    }
   ],
   "source": [
    "# PCA降维\n",
    "pca = PCA(n_components=0.75)\n",
    "pca.fit(X_train)"
   ]
  },
  {
   "cell_type": "code",
   "execution_count": 7,
   "metadata": {
    "scrolled": true
   },
   "outputs": [
    {
     "data": {
      "text/plain": [
       "33"
      ]
     },
     "execution_count": 7,
     "metadata": {},
     "output_type": "execute_result"
    }
   ],
   "source": [
    "# PCA的维数\n",
    "pca.n_components_"
   ]
  },
  {
   "cell_type": "code",
   "execution_count": 8,
   "metadata": {},
   "outputs": [],
   "source": [
    "#对训练数据和测试数据进行降维\n",
    "X_train_pca = pca.transform(X_train)\n",
    "X_test_pca = pca.transform(X_test)"
   ]
  },
  {
   "cell_type": "code",
   "execution_count": 9,
   "metadata": {},
   "outputs": [
    {
     "name": "stdout",
     "output_type": "stream",
     "text": [
      "(42000, 33)\n"
     ]
    }
   ],
   "source": [
    "#降维后的数据规模\n",
    "print(X_train_pca.shape)"
   ]
  },
  {
   "cell_type": "code",
   "execution_count": 10,
   "metadata": {},
   "outputs": [],
   "source": [
    "# 将训练集合拆分成训练集和校验集，在校验集上评估模型预测性能\n",
    "X_train_part, X_val, y_train_part, y_val = train_test_split(X_train_pca, y_train, train_size = 0.8,random_state = 0)"
   ]
  },
  {
   "cell_type": "code",
   "execution_count": null,
   "metadata": {},
   "outputs": [
    {
     "name": "stdout",
     "output_type": "stream",
     "text": [
      "(33600, 33)\n",
      "(8400, 33)\n"
     ]
    }
   ],
   "source": [
    "# 训练集和校验集规模\n",
    "print(X_train_part.shape)\n",
    "print(X_val.shape)"
   ]
  },
  {
   "cell_type": "code",
   "execution_count": null,
   "metadata": {},
   "outputs": [],
   "source": [
    "# 训练一个多层感知机模型\n",
    "clf_MLP = MLPClassifier(hidden_layer_sizes=(1000,), random_state=1)\n",
    "clf_MLP.fit(X_train_part, y_train_part)"
   ]
  },
  {
   "cell_type": "code",
   "execution_count": null,
   "metadata": {},
   "outputs": [],
   "source": [
    "# 在校验集上测试\n",
    "from sklearn import  metrics\n",
    "from sklearn.metrics import accuracy_score\n",
    "\n",
    "#accuracy and confusion matrix\n",
    "y_predict = clf_MLP.predict(X_val)\n",
    "\n",
    "# 返回accuracy\n",
    "val_accuracy = accuracy_score(y_val, y_predict)\n",
    "print (\"Validation Accuary: %.2f%%\" % (val_accuracy * 100.0))\n",
    "\n",
    "print(\"Classification report for classifier %s:\\n%s\\n\"\n",
    "      % (clf_MLP, metrics.classification_report(y_val, y_predict)))\n",
    "print(\"Confusion matrix:\\n%s\" % metrics.confusion_matrix(y_val, y_predict))"
   ]
  },
  {
   "cell_type": "code",
   "execution_count": null,
   "metadata": {},
   "outputs": [],
   "source": [
    "# 在测试集上生成测试提交结果\n",
    "#accuracy and confusion matrix\n",
    "y_predict = clf_MLP.predict(X_test_pca)\n",
    "\n",
    "import pandas as pd\n",
    "df = pd.DataFrame(y_predict)\n",
    "df.columns=['Label']\n",
    "df.index+=1\n",
    "df.index.name = 'Imageid'\n",
    "df.to_csv('SVC_Minist_submission.csv', header=True)"
   ]
  },
  {
   "cell_type": "code",
   "execution_count": null,
   "metadata": {},
   "outputs": [],
   "source": [
    "# 这部分功能已经不好用了，因为校验集X_val的内容为PCA降维之后的信息，无法用图像显示\n",
    "#如果想可视化，需要在校验集X_val中存储PCA降维之前的信息\n",
    "# 生成比较列表，如果预测的结果正确，则对应位置为0，错误则为1\n",
    "comp = [0 if y1 == y2 else 1 for y1, y2 in zip(y_val,y_predict )]\n",
    "\n",
    "# 收集错误识别的样本下标\n",
    "wrong_index = []\n",
    "for i, value in enumerate(comp):\n",
    "    if value: wrong_index.append(i)\n",
    "\n",
    "#.drop(\"label\",axis=1).value\n",
    "# 输出错误识别的样本图像\n",
    "pyplot.figure(figsize=(8, 6))\n",
    "for plot_index , image_index in enumerate(wrong_index):\n",
    "    image = X_val[image_index]\n",
    "    if plot_index == 8:\n",
    "        break\n",
    "        \n",
    "    pyplot.subplot(2, 4, plot_index+1)\n",
    "    pyplot.axis('off')\n",
    "    pyplot.imshow(image.reshape(28,28), cmap=pyplot.cm.gray_r,interpolation='nearest')\n",
    "    # 图像说明，8->9 表示正确值为8，被错误地识别成了9\n",
    "    info = \"{right}->{wrong}\".format(right=y_val[image_index], wrong=y_predict[image_index])\n",
    "    pyplot.title(info, fontsize=16)\n",
    "\n",
    "pyplot.show()"
   ]
  },
  {
   "cell_type": "code",
   "execution_count": null,
   "metadata": {
    "collapsed": true
   },
   "outputs": [],
   "source": []
  }
 ],
 "metadata": {
  "kernelspec": {
   "display_name": "Python 3",
   "language": "python",
   "name": "python3"
  },
  "language_info": {
   "codemirror_mode": {
    "name": "ipython",
    "version": 3
   },
   "file_extension": ".py",
   "mimetype": "text/x-python",
   "name": "python",
   "nbconvert_exporter": "python",
   "pygments_lexer": "ipython3",
   "version": "3.6.1"
  }
 },
 "nbformat": 4,
 "nbformat_minor": 2
}
