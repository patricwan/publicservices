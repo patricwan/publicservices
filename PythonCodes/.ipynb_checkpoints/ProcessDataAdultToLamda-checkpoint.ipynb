{
 "cells": [
  {
   "cell_type": "code",
   "execution_count": 20,
   "metadata": {},
   "outputs": [],
   "source": [
    "import numpy as np \n",
    "import pandas as pd\n",
    "import random\n",
    "import datetime\n",
    "\n",
    "def oneHotForFeatures(df, columnName):\n",
    "    onehot = pd.get_dummies(df[columnName],prefix=columnName)\n",
    "    df = df.drop(columnName, axis =1)\n",
    "    df = df.join(onehot)\n",
    "    return df\n",
    "\n",
    "def toUniqueValsForFeature(df, columnName):\n",
    "    df[columnName] = df[columnName].str.replace(' ', '')\n",
    "    uniqueValues = df[columnName].unique()\n",
    "    mapValues = {}\n",
    "    for eachOne in range(len(uniqueValues)):\n",
    "        mapValues[uniqueValues[eachOne]]  = eachOne\n",
    "        \n",
    "    df[columnName] = df[columnName].apply(mapValues.get).astype(float)\n",
    "    return\n",
    "\n",
    "dataPath = './data/adult/'\n",
    "dfAdultTrain = pd.read_csv(dataPath + \"adultTest.csv\")\n",
    "\n",
    "#Fill in the NA with median value\n",
    "dfAdultTrain['Age'].fillna(dfAdultTrain['Age'].median(), inplace=True) \n",
    "dfAdultTrain['EduNum'].fillna(dfAdultTrain['EduNum'].median(), inplace=True) \n",
    "#Drop the rows with >=thresh NAs \n",
    "dfAdultTrain.dropna(thresh=1)\n",
    "\n",
    "#One hot for features \n",
    "toUniqueValsForFeature(dfAdultTrain, 'workclass')\n",
    "toUniqueValsForFeature(dfAdultTrain, 'Education')\n",
    "toUniqueValsForFeature(dfAdultTrain, 'Marriage')\n",
    "toUniqueValsForFeature(dfAdultTrain, 'WorkType')\n",
    "toUniqueValsForFeature(dfAdultTrain, 'Family')\n",
    "toUniqueValsForFeature(dfAdultTrain, 'Race')\n",
    "toUniqueValsForFeature(dfAdultTrain, 'Sex')\n",
    "toUniqueValsForFeature(dfAdultTrain, 'Country')\n",
    "\n",
    "\n",
    "#Convert the income to be 0,1 output \n",
    "incomeResult = {\"<=50K\":0,\">50K\":1}\n",
    "dfAdultTrain['Income'] = dfAdultTrain['Income'].str.replace(' ', '')\n",
    "dfAdultTrain['IncomeRes'] = dfAdultTrain['Income'].apply(incomeResult.get).astype(float)\n",
    "dfAdultTrain = dfAdultTrain.drop('Income', 1)\n",
    "\n",
    "dfAdultTrain.to_csv(dataPath + \"adultTestLamda.csv\")\n",
    "\n",
    "\n",
    "\n",
    "\n"
   ]
  },
  {
   "cell_type": "code",
   "execution_count": null,
   "metadata": {},
   "outputs": [],
   "source": []
  }
 ],
 "metadata": {
  "kernelspec": {
   "display_name": "Python 3",
   "language": "python",
   "name": "python3"
  },
  "language_info": {
   "codemirror_mode": {
    "name": "ipython",
    "version": 3
   },
   "file_extension": ".py",
   "mimetype": "text/x-python",
   "name": "python",
   "nbconvert_exporter": "python",
   "pygments_lexer": "ipython3",
   "version": "3.6.1"
  }
 },
 "nbformat": 4,
 "nbformat_minor": 2
}
