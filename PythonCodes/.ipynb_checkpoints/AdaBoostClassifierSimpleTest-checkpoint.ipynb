{
 "cells": [
  {
   "cell_type": "code",
   "execution_count": 1,
   "metadata": {},
   "outputs": [],
   "source": [
    "import numpy as np\n",
    "import matplotlib.pyplot as plt\n",
    "%matplotlib inline\n",
    "from sklearn.ensemble import AdaBoostClassifier\n",
    "from sklearn.tree import DecisionTreeClassifier\n",
    "from sklearn.datasets import make_gaussian_quantiles"
   ]
  },
  {
   "cell_type": "code",
   "execution_count": 6,
   "metadata": {},
   "outputs": [],
   "source": [
    "# 生成2维正态分布，生成的数据按分位数分为两类，500个样本,2个样本特征，协方差系数为2\n",
    "X1, y1 = make_gaussian_quantiles(cov=2.0,n_samples=500, n_features=3,n_classes=2, random_state=1)\n",
    "# 生成2维正态分布，生成的数据按分位数分为两类，400个样本,2个样本特征均值都为3，协方差系数为2\n",
    "X2, y2 = make_gaussian_quantiles(mean=(3, 3, 2), cov=1.5,n_samples=400, n_features=3, n_classes=2, random_state=1)\n",
    "#讲两组数据合成一组数据\n",
    "X = np.concatenate((X1, X2))\n",
    "y = np.concatenate((y1, - y2 + 1))"
   ]
  },
  {
   "cell_type": "code",
   "execution_count": 7,
   "metadata": {},
   "outputs": [
    {
     "name": "stdout",
     "output_type": "stream",
     "text": [
      "X [[-0.63172807  0.28903328  0.86582754]\n",
      " [-0.87858268  1.48579349  0.65022952]\n",
      " [ 2.69359418  1.57127145  0.93203716]\n",
      " ..., \n",
      " [ 3.3047155   2.63669027  2.60650753]\n",
      " [ 1.99268753  3.8839122   1.23411559]\n",
      " [ 1.75712438  3.53397186  1.15800334]]\n",
      "y [0 0 1 1 0 1 1 1 1 0 1 0 0 1 0 0 1 1 0 0 0 1 0 0 0 0 1 0 1 1 0 0 1 1 0 0 1\n",
      " 1 1 0 1 0 1 1 0 1 1 1 1 1 1 1 0 0 1 1 0 0 1 1 1 0 1 1 1 0 0 0 1 1 0 0 0 1\n",
      " 0 0 1 1 1 1 0 0 0 0 0 0 1 0 0 1 1 1 0 1 0 0 0 0 0 0 0 1 0 0 1 0 1 0 0 1 1\n",
      " 0 1 1 1 0 1 1 1 1 0 0 0 0 1 0 0 1 1 1 0 0 0 0 1 0 1 0 1 1 1 1 1 0 0 1 0 0\n",
      " 0 0 1 1 0 0 1 0 0 1 0 0 0 0 1 0 1 0 0 1 1 1 0 0 1 1 1 0 1 1 1 1 0 0 0 1 0\n",
      " 1 1 0 0 1 1 1 0 1 1 0 1 1 0 1 0 0 1 0 1 0 0 0 1 0 0 0 0 1 1 1 0 0 1 0 0 0\n",
      " 1 0 1 1 1 0 0 0 1 0 1 0 0 1 0 0 1 0 1 0 1 1 0 0 0 1 0 0 0 1 1 0 0 1 1 1 1\n",
      " 0 1 0 0 0 1 1 0 0 0 0 1 1 1 1 0 0 1 0 1 0 1 1 0 1 1 0 1 1 0 1 0 1 0 0 1 0\n",
      " 0 0 0 1 1 1 0 0 0 1 0 0 1 0 1 1 1 1 0 1 0 0 1 0 1 1 0 1 0 1 0 0 1 0 1 0 0\n",
      " 1 1 0 0 1 1 0 0 0 0 0 1 1 1 0 0 0 0 1 1 1 1 1 0 0 1 1 1 1 0 0 1 0 0 0 0 0\n",
      " 1 0 1 1 1 1 0 1 1 1 0 0 1 1 0 0 1 0 0 1 1 0 1 1 1 0 1 0 0 1 0 0 1 1 1 0 0\n",
      " 1 0 0 1 1 1 1 1 0 1 1 1 0 1 0 1 1 1 1 0 1 1 0 1 1 0 0 1 1 1 1 1 1 1 0 1 0\n",
      " 1 1 1 0 0 0 1 1 1 1 0 1 1 1 0 1 0 1 1 1 1 0 0 0 0 0 1 0 1 0 0 0 0 0 1 0 0\n",
      " 0 0 1 1 0 0 0 0 0 1 1 0 1 0 0 0 1 1 1 0 1 0 0 1 1 1 0 1 0 1 0 1 1 0 1 0 0\n",
      " 1 0 0 1 0 1 1 1 1 1 0 0 1 0 1 0 1 0 0 0 1 0 1 1 0 0 1 0 1 0 1 1 0 1 0 0 1\n",
      " 0 1 1 0 0 0 0 0 0 1 0 1 0 0 1 1 0 0 1 0 1 0 0 1 1 1 1 0 1 0 0 1 0 0 0 0 1\n",
      " 0 1 0 0 1 0 0 1 1 1 0 0 1 0 0 1 1 0 1 1 1 1 0 0 1 0 1 0 0 0 1 0 1 1 0 1 0\n",
      " 1 0 1 0 1 0 1 0 0 0 1 1 1 1 0 0 0 1 1 1 0 0 0 1 0 1 0 1 0 0 1 0 1 0 1 1 1\n",
      " 1 1 1 0 1 0 1 0 1 0 1 1 1 1 1 1 1 1 1 1 1 0 1 1 0 0 1 0 0 1 1 1 1 1 1 1 1\n",
      " 1 1 0 1 0 1 1 1 0 1 0 0 0 0 0 1 0 0 0 1 1 0 0 1 0 1 0 1 0 0 0 0 1 1 1 0 1\n",
      " 0 0 1 0 1 0 0 0 1 1 0 1 0 0 1 0 0 1 1 0 1 0 0 0 1 0 0 1 1 1 1 0 0 0 0 0 1\n",
      " 1 1 0 1 0 0 1 0 0 0 0 0 1 0 0 1 0 1 1 0 0 0 0 0 1 0 0 0 0 0 0 0 1 1 0 0 0\n",
      " 0 0 0 1 1 1 0 0 1 1 1 0 0 1 1 1 0 1 0 1 0 0 1 1 0 0 0 1 0 0 1 1 1 0 0 1 1\n",
      " 0 1 1 0 1 1 1 1 1 0 0 1 0 1 0 1 1 0 1 0 1 0 0 0 1 1 0 1 1 0 1 1 0 1 1 1 0\n",
      " 0 1 1 0 1 1 0 1 0 1 1 1]\n"
     ]
    }
   ],
   "source": [
    "print(\"X\",X)\n",
    "print(\"y\",y)\n"
   ]
  },
  {
   "cell_type": "code",
   "execution_count": 8,
   "metadata": {},
   "outputs": [
    {
     "data": {
      "text/plain": [
       "AdaBoostClassifier(algorithm='SAMME',\n",
       "          base_estimator=DecisionTreeClassifier(class_weight=None, criterion='gini', max_depth=2,\n",
       "            max_features=None, max_leaf_nodes=None,\n",
       "            min_impurity_split=1e-07, min_samples_leaf=5,\n",
       "            min_samples_split=20, min_weight_fraction_leaf=0.0,\n",
       "            presort=False, random_state=None, splitter='best'),\n",
       "          learning_rate=0.8, n_estimators=200, random_state=None)"
      ]
     },
     "execution_count": 8,
     "metadata": {},
     "output_type": "execute_result"
    }
   ],
   "source": [
    "bdt = AdaBoostClassifier(DecisionTreeClassifier(max_depth=2, min_samples_split=20, min_samples_leaf=5),\n",
    "                         algorithm=\"SAMME\",\n",
    "                         n_estimators=200, learning_rate=0.8)\n",
    "bdt.fit(X, y)\n",
    "\n"
   ]
  },
  {
   "cell_type": "code",
   "execution_count": null,
   "metadata": {},
   "outputs": [],
   "source": [
    "print(\"Score:\", bdt.score(X,y))"
   ]
  }
 ],
 "metadata": {
  "kernelspec": {
   "display_name": "Python 3",
   "language": "python",
   "name": "python3"
  },
  "language_info": {
   "codemirror_mode": {
    "name": "ipython",
    "version": 3
   },
   "file_extension": ".py",
   "mimetype": "text/x-python",
   "name": "python",
   "nbconvert_exporter": "python",
   "pygments_lexer": "ipython3",
   "version": "3.6.1"
  }
 },
 "nbformat": 4,
 "nbformat_minor": 2
}
